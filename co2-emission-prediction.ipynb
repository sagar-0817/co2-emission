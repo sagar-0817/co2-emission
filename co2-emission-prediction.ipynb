{
 "cells": [
  {
   "cell_type": "markdown",
   "metadata": {},
   "source": [
    "# $CO_{2}$ Emission Prediction for Vehicles"
   ]
  },
  {
   "cell_type": "markdown",
   "metadata": {},
   "source": [
    "<hr>"
   ]
  },
  {
   "cell_type": "markdown",
   "metadata": {},
   "source": [
    "## Importing Libraries"
   ]
  },
  {
   "cell_type": "code",
   "execution_count": 218,
   "metadata": {},
   "outputs": [],
   "source": [
    "import numpy as np\n",
    "import pandas as pd"
   ]
  },
  {
   "cell_type": "code",
   "execution_count": 219,
   "metadata": {},
   "outputs": [],
   "source": [
    "import matplotlib.pyplot as plt\n",
    "import seaborn as sns"
   ]
  },
  {
   "cell_type": "code",
   "execution_count": 220,
   "metadata": {},
   "outputs": [],
   "source": [
    "from sklearn.model_selection import GridSearchCV\n",
    "\n",
    "from sklearn.metrics import mean_squared_error"
   ]
  },
  {
   "cell_type": "markdown",
   "metadata": {},
   "source": [
    "<hr>"
   ]
  },
  {
   "cell_type": "markdown",
   "metadata": {},
   "source": [
    "## Loading Data"
   ]
  },
  {
   "cell_type": "code",
   "execution_count": 221,
   "metadata": {},
   "outputs": [],
   "source": [
    "d1 = pd.read_excel(\"Fuel Consumption.xlsx\", sheet_name=\"1995-1999\")"
   ]
  },
  {
   "cell_type": "code",
   "execution_count": 222,
   "metadata": {},
   "outputs": [],
   "source": [
    "d2 = pd.read_excel(\"Fuel Consumption.xlsx\", sheet_name=\"2000-2014\")"
   ]
  },
  {
   "cell_type": "code",
   "execution_count": 223,
   "metadata": {},
   "outputs": [],
   "source": [
    "d3 = pd.read_excel(\"Fuel Consumption.xlsx\", sheet_name=\"2015-2020\")"
   ]
  },
  {
   "cell_type": "code",
   "execution_count": 224,
   "metadata": {},
   "outputs": [],
   "source": [
    "data = pd.concat([d1, d2, d3])\n",
    "\n",
    "data.reset_index(drop=True, inplace=True)"
   ]
  },
  {
   "cell_type": "code",
   "execution_count": 225,
   "metadata": {},
   "outputs": [
    {
     "data": {
      "text/html": [
       "<div>\n",
       "<style scoped>\n",
       "    .dataframe tbody tr th:only-of-type {\n",
       "        vertical-align: middle;\n",
       "    }\n",
       "\n",
       "    .dataframe tbody tr th {\n",
       "        vertical-align: top;\n",
       "    }\n",
       "\n",
       "    .dataframe thead th {\n",
       "        text-align: right;\n",
       "    }\n",
       "</style>\n",
       "<table border=\"1\" class=\"dataframe\">\n",
       "  <thead>\n",
       "    <tr style=\"text-align: right;\">\n",
       "      <th></th>\n",
       "      <th>MODEL YEAR</th>\n",
       "      <th>MAKE</th>\n",
       "      <th>MODEL</th>\n",
       "      <th>VEHICLE CLASS</th>\n",
       "      <th>ENGINE SIZE (L)</th>\n",
       "      <th>CYLINDERS</th>\n",
       "      <th>TRANSMISSION</th>\n",
       "      <th>FUEL TYPE</th>\n",
       "      <th>FUEL CONSUMPTION CITY (L/100)</th>\n",
       "      <th>FUEL CONSUMPTION HWY (L/100)</th>\n",
       "      <th>FUEL CONSUMPTION COMB (L/100)</th>\n",
       "      <th>FUEL CONSUMPTION COMB (mpg)</th>\n",
       "      <th>CO2 EMISSIONS (g/km)</th>\n",
       "    </tr>\n",
       "  </thead>\n",
       "  <tbody>\n",
       "    <tr>\n",
       "      <th>0</th>\n",
       "      <td>1995</td>\n",
       "      <td>ACURA</td>\n",
       "      <td>INTEGRA</td>\n",
       "      <td>SUBCOMPACT</td>\n",
       "      <td>1.8</td>\n",
       "      <td>4</td>\n",
       "      <td>A4</td>\n",
       "      <td>X</td>\n",
       "      <td>10.2</td>\n",
       "      <td>7.0</td>\n",
       "      <td>8.8</td>\n",
       "      <td>32</td>\n",
       "      <td>202</td>\n",
       "    </tr>\n",
       "    <tr>\n",
       "      <th>1</th>\n",
       "      <td>1995</td>\n",
       "      <td>ACURA</td>\n",
       "      <td>INTEGRA</td>\n",
       "      <td>SUBCOMPACT</td>\n",
       "      <td>1.8</td>\n",
       "      <td>4</td>\n",
       "      <td>M5</td>\n",
       "      <td>X</td>\n",
       "      <td>9.6</td>\n",
       "      <td>7.0</td>\n",
       "      <td>8.4</td>\n",
       "      <td>34</td>\n",
       "      <td>193</td>\n",
       "    </tr>\n",
       "    <tr>\n",
       "      <th>2</th>\n",
       "      <td>1995</td>\n",
       "      <td>ACURA</td>\n",
       "      <td>INTEGRA GS-R</td>\n",
       "      <td>SUBCOMPACT</td>\n",
       "      <td>1.8</td>\n",
       "      <td>4</td>\n",
       "      <td>M5</td>\n",
       "      <td>Z</td>\n",
       "      <td>9.4</td>\n",
       "      <td>7.0</td>\n",
       "      <td>8.3</td>\n",
       "      <td>34</td>\n",
       "      <td>191</td>\n",
       "    </tr>\n",
       "    <tr>\n",
       "      <th>3</th>\n",
       "      <td>1995</td>\n",
       "      <td>ACURA</td>\n",
       "      <td>LEGEND</td>\n",
       "      <td>COMPACT</td>\n",
       "      <td>3.2</td>\n",
       "      <td>6</td>\n",
       "      <td>A4</td>\n",
       "      <td>Z</td>\n",
       "      <td>12.6</td>\n",
       "      <td>8.9</td>\n",
       "      <td>10.9</td>\n",
       "      <td>26</td>\n",
       "      <td>251</td>\n",
       "    </tr>\n",
       "    <tr>\n",
       "      <th>4</th>\n",
       "      <td>1995</td>\n",
       "      <td>ACURA</td>\n",
       "      <td>LEGEND COUPE</td>\n",
       "      <td>COMPACT</td>\n",
       "      <td>3.2</td>\n",
       "      <td>6</td>\n",
       "      <td>A4</td>\n",
       "      <td>Z</td>\n",
       "      <td>13.0</td>\n",
       "      <td>9.3</td>\n",
       "      <td>11.3</td>\n",
       "      <td>25</td>\n",
       "      <td>260</td>\n",
       "    </tr>\n",
       "  </tbody>\n",
       "</table>\n",
       "</div>"
      ],
      "text/plain": [
       "   MODEL YEAR   MAKE         MODEL VEHICLE CLASS  ENGINE SIZE (L)  CYLINDERS  \\\n",
       "0        1995  ACURA       INTEGRA    SUBCOMPACT              1.8          4   \n",
       "1        1995  ACURA       INTEGRA    SUBCOMPACT              1.8          4   \n",
       "2        1995  ACURA  INTEGRA GS-R    SUBCOMPACT              1.8          4   \n",
       "3        1995  ACURA        LEGEND       COMPACT              3.2          6   \n",
       "4        1995  ACURA  LEGEND COUPE       COMPACT              3.2          6   \n",
       "\n",
       "  TRANSMISSION FUEL TYPE  FUEL CONSUMPTION CITY (L/100)  \\\n",
       "0           A4         X                           10.2   \n",
       "1           M5         X                            9.6   \n",
       "2           M5         Z                            9.4   \n",
       "3           A4         Z                           12.6   \n",
       "4           A4         Z                           13.0   \n",
       "\n",
       "   FUEL CONSUMPTION HWY (L/100)  FUEL CONSUMPTION COMB (L/100)  \\\n",
       "0                           7.0                            8.8   \n",
       "1                           7.0                            8.4   \n",
       "2                           7.0                            8.3   \n",
       "3                           8.9                           10.9   \n",
       "4                           9.3                           11.3   \n",
       "\n",
       "   FUEL CONSUMPTION COMB (mpg)  CO2 EMISSIONS (g/km)  \n",
       "0                           32                   202  \n",
       "1                           34                   193  \n",
       "2                           34                   191  \n",
       "3                           26                   251  \n",
       "4                           25                   260  "
      ]
     },
     "execution_count": 225,
     "metadata": {},
     "output_type": "execute_result"
    }
   ],
   "source": [
    "data.head()"
   ]
  },
  {
   "cell_type": "code",
   "execution_count": 226,
   "metadata": {},
   "outputs": [
    {
     "data": {
      "text/plain": [
       "(24097, 13)"
      ]
     },
     "execution_count": 226,
     "metadata": {},
     "output_type": "execute_result"
    }
   ],
   "source": [
    "data.shape"
   ]
  },
  {
   "cell_type": "markdown",
   "metadata": {},
   "source": [
    "* The data has 24097 rows and 13 columns."
   ]
  },
  {
   "cell_type": "markdown",
   "metadata": {},
   "source": [
    "<hr>"
   ]
  },
  {
   "cell_type": "markdown",
   "metadata": {},
   "source": [
    "## Pre-processing"
   ]
  },
  {
   "cell_type": "code",
   "execution_count": 227,
   "metadata": {},
   "outputs": [
    {
     "data": {
      "text/plain": [
       "array(['ACURA', 'ALFA ROMEO', 'AUDI', 'BENTLEY', 'BMW', 'BUICK',\n",
       "       'CADILLAC', 'CHEVROLET', 'CHRYSLER', 'DODGE', 'EAGLE', 'FERRARI',\n",
       "       'FORD', 'GEO', 'HONDA', 'HYUNDAI', 'INFINITI', 'JAGUAR', 'LEXUS',\n",
       "       'LINCOLN', 'MERCURY', 'MAZDA', 'MERCEDES-BENZ', 'NISSAN',\n",
       "       'OLDSMOBILE', 'PLYMOUTH', 'PONTIAC', 'PORSCHE', 'ROLLS-ROYCE',\n",
       "       'SAAB', 'SATURN', 'SUBARU', 'SUZUKI', 'TOYOTA', 'VOLKSWAGEN',\n",
       "       'VOLVO', 'GMC', 'ISUZU', 'JEEP', 'LAND ROVER', 'DAEWOO', 'KIA',\n",
       "       'MASERATI', 'MINI', 'MITSUBISHI', 'SMART', 'HUMMER',\n",
       "       'ASTON MARTIN', 'LAMBORGHINI', 'BUGATTI', 'SCION', 'FIAT', 'RAM',\n",
       "       'SRT', 'GENESIS', 'Acura', 'Alfa Romeo', 'Aston Martin', 'Audi',\n",
       "       'Bentley', 'Bugatti', 'Buick', 'Cadillac', 'Chevrolet', 'Chrysler',\n",
       "       'Dodge', 'Ford', 'Genesis', 'Honda', 'Hyundai', 'Infiniti',\n",
       "       'Jaguar', 'Jeep', 'Kia', 'Lamborghini', 'Land Rover', 'Lexus',\n",
       "       'Lincoln', 'Maserati', 'Mazda', 'Mercedes-Benz', 'Mitsubishi',\n",
       "       'Nissan', 'Porsche', 'Ram', 'Rolls-Royce', 'Subaru', 'Toyota',\n",
       "       'Volkswagen', 'Volvo'], dtype=object)"
      ]
     },
     "execution_count": 227,
     "metadata": {},
     "output_type": "execute_result"
    }
   ],
   "source": [
    "data[\"MAKE\"].unique()"
   ]
  },
  {
   "cell_type": "markdown",
   "metadata": {},
   "source": [
    "* While most of the manufacturer names are in upper case, some of the manufacturer names are in title case.\n",
    "\n",
    "* Let's convert the name of all manufacturers to upper case so that they are consistent."
   ]
  },
  {
   "cell_type": "code",
   "execution_count": 228,
   "metadata": {},
   "outputs": [],
   "source": [
    "data[\"MAKE\"] = data[\"MAKE\"].str.upper()"
   ]
  },
  {
   "cell_type": "code",
   "execution_count": 229,
   "metadata": {},
   "outputs": [
    {
     "data": {
      "text/plain": [
       "array(['SUBCOMPACT', 'COMPACT', 'TWO-SEATER', 'STATION WAGON - SMALL',\n",
       "       'MINICOMPACT', 'MID-SIZE', 'FULL-SIZE', 'STATION WAGON - MID-SIZE',\n",
       "       'PICKUP TRUCK - STANDARD', 'PICKUP TRUCK - SMALL', 'VAN - CARGO',\n",
       "       'VAN - PASSENGER', 'MINIVAN', 'SUV', 'SUV - STANDARD',\n",
       "       'SPECIAL PURPOSE VEHICLE', 'SUV - SMALL', 'Compact', 'SUV: Small',\n",
       "       'Two-seater', 'Mid-size', 'Minicompact', 'Subcompact',\n",
       "       'Station wagon: Small', 'Full-size', 'SUV: Standard',\n",
       "       'Pickup truck: Small', 'Pickup truck: Standard', 'Minivan',\n",
       "       'Van: Passenger', 'Special purpose vehicle',\n",
       "       'Station wagon: Mid-size'], dtype=object)"
      ]
     },
     "execution_count": 229,
     "metadata": {},
     "output_type": "execute_result"
    }
   ],
   "source": [
    "data[\"VEHICLE CLASS\"].unique()"
   ]
  },
  {
   "cell_type": "markdown",
   "metadata": {},
   "source": [
    "* Let's replace **':'** in vehicle class by **' -'** because **\"SUV: Small\"** is the same as **\"SUV - SMALL\"**.\n",
    "<br><br>\n",
    "* Also, most of the vehicle classes are in upper case while some of the vehicle classes are in title case.\n",
    "\n",
    "* Let's convert all vehicle classes to upper case so that they are consistent."
   ]
  },
  {
   "cell_type": "code",
   "execution_count": 230,
   "metadata": {},
   "outputs": [],
   "source": [
    "data[\"VEHICLE CLASS\"] = data[\"VEHICLE CLASS\"].str.replace(\":\", \" -\").str.upper()"
   ]
  },
  {
   "cell_type": "markdown",
   "metadata": {},
   "source": [
    "<hr>"
   ]
  },
  {
   "cell_type": "markdown",
   "metadata": {},
   "source": [
    "## Correlation between Continuous variables"
   ]
  },
  {
   "cell_type": "code",
   "execution_count": 231,
   "metadata": {},
   "outputs": [],
   "source": [
    "# Data with only continuous variables\n",
    "data_num_columns = data.select_dtypes(exclude=[object]).drop(\"MODEL YEAR\", axis=1)"
   ]
  },
  {
   "cell_type": "code",
   "execution_count": 232,
   "metadata": {},
   "outputs": [
    {
     "data": {
      "image/png": "[encoded data removed]",
      "text/plain": [
       "<Figure size 576x432 with 2 Axes>"
      ]
     },
     "metadata": {
      "needs_background": "light"
     },
     "output_type": "display_data"
    }
   ],
   "source": [
    "plt.figure(figsize=(8,6))\n",
    "plt.title(\"Correlation between the continuous variables\")\n",
    "\n",
    "sns.heatmap(data_num_columns.corr(), annot=True,\n",
    "            cmap=\"viridis\", linecolor=\"white\", linewidths=0.1);"
   ]
  },
  {
   "cell_type": "markdown",
   "metadata": {},
   "source": [
    "* We can observe that all variables have a strong positive correlation with $CO_{2}$ EMISSIONS (g/km) while FUEL CONSUMPTION COMB (mpg) has a strong negative correlation with $CO_{2}$ EMISSIONS (g/km).<br><br>\n",
    "\n",
    "* Thus, we can include all the continuous variables to predict the $CO_{2}$ emission of vehicles."
   ]
  },
  {
   "cell_type": "markdown",
   "metadata": {},
   "source": [
    "<hr>"
   ]
  },
  {
   "cell_type": "markdown",
   "metadata": {},
   "source": [
    "## ANOVA test on Categorical variables"
   ]
  },
  {
   "cell_type": "markdown",
   "metadata": {},
   "source": [
    "* We perform ANOVA test to check the impact of categorical variables on the target variable which is a continuous variable in our case.\n",
    "<br><br>\n",
    "\n",
    "* The null hypothesis of the test assumes that the average of different groups in a categorical variable is similar.<br>In order words, the difference between the average of different groups in a categorical variable is not significant.\n",
    "<br><br>\n",
    "\n",
    "* The alternate hypothesis states that the difference between the average of different groups in a categorical variable is significant.\n",
    "<br><br>\n",
    "\n",
    "* The value of F-score and p-value determines which of tho two hypothesis is true.\n",
    "* If the null hypothesis is true, the concerned categorical variable won't be of much help in predicting the target variable.\n",
    "* If the alternate hypothesis is true, the concerned categorical variable will be helpful in predicting the target variable."
   ]
  },
  {
   "cell_type": "markdown",
   "metadata": {},
   "source": [
    "### ANOVA test for MAKE"
   ]
  },
  {
   "cell_type": "code",
   "execution_count": 233,
   "metadata": {},
   "outputs": [],
   "source": [
    "from scipy import stats"
   ]
  },
  {
   "cell_type": "code",
   "execution_count": 234,
   "metadata": {},
   "outputs": [],
   "source": [
    "make_grp = data.groupby(\"MAKE\")\n",
    "\n",
    "make_emission = []\n",
    "\n",
    "for make in make_grp.indices.keys():\n",
    "    make_emission.append(make_grp.get_group(make)[\"CO2 EMISSIONS (g/km)\"])"
   ]
  },
  {
   "cell_type": "code",
   "execution_count": 235,
   "metadata": {},
   "outputs": [
    {
     "name": "stdout",
     "output_type": "stream",
     "text": [
      "F-score: 281.4380856410214\tp-value: 0.0\n"
     ]
    }
   ],
   "source": [
    "f_score_make, p_val_make = stats.f_oneway(*make_emission)\n",
    "\n",
    "print(f\"F-score: {f_score_make}\\tp-value: {p_val_make}\")"
   ]
  },
  {
   "cell_type": "markdown",
   "metadata": {},
   "source": [
    "* The **F-score** and **p-value** confirms that the difference between average $CO_{2}$ emissions of each car manufacturer is significant.<br>Thus, we include the feature to build our model for predicting the $CO_{2}$ emission of vehicles."
   ]
  },
  {
   "cell_type": "markdown",
   "metadata": {},
   "source": [
    "### ANOVA test for VEHICLE CLASS"
   ]
  },
  {
   "cell_type": "code",
   "execution_count": 236,
   "metadata": {},
   "outputs": [],
   "source": [
    "vehicle_class_grp = data.groupby(\"VEHICLE CLASS\")\n",
    "\n",
    "cls_emission = []\n",
    "\n",
    "for cls in vehicle_class_grp.indices.keys():\n",
    "    cls_emission.append(vehicle_class_grp.get_group(cls)[\"CO2 EMISSIONS (g/km)\"])"
   ]
  },
  {
   "cell_type": "code",
   "execution_count": 237,
   "metadata": {},
   "outputs": [
    {
     "name": "stdout",
     "output_type": "stream",
     "text": [
      "F-score: 816.088784138182\tp-value: 0.0\n"
     ]
    }
   ],
   "source": [
    "f_score_cls, p_val_cls = stats.f_oneway(*cls_emission)\n",
    "\n",
    "print(f\"F-score: {f_score_cls}\\tp-value: {p_val_cls}\")"
   ]
  },
  {
   "cell_type": "markdown",
   "metadata": {},
   "source": [
    "* The **F-score** and **p-value** confirms that the difference between average $CO_{2}$ emissions of each vehicle class is significant.<br>Thus, we include the feature to build our model for predicting the $CO_{2}$ emission of vehicles."
   ]
  },
  {
   "cell_type": "markdown",
   "metadata": {},
   "source": [
    "### ANOVA test for TRANSMISSION"
   ]
  },
  {
   "cell_type": "code",
   "execution_count": 238,
   "metadata": {},
   "outputs": [],
   "source": [
    "trans_grp = data.groupby(\"TRANSMISSION\")\n",
    "\n",
    "trans_emission = []\n",
    "\n",
    "for trans in trans_grp.indices.keys():\n",
    "    trans_emission.append(trans_grp.get_group(trans)[\"CO2 EMISSIONS (g/km)\"])"
   ]
  },
  {
   "cell_type": "code",
   "execution_count": 239,
   "metadata": {},
   "outputs": [
    {
     "name": "stdout",
     "output_type": "stream",
     "text": [
      "F-score: 154.64665826893435\tp-value: 0.0\n"
     ]
    }
   ],
   "source": [
    "f_score_trans, p_val_trans = stats.f_oneway(*trans_emission)\n",
    "\n",
    "print(f\"F-score: {f_score_trans}\\tp-value: {p_val_trans}\")"
   ]
  },
  {
   "cell_type": "markdown",
   "metadata": {},
   "source": [
    "* The **F-score** and **p-value** confirms that the difference between average $CO_{2}$ emissions of each transmission is significant.<br>Thus, we include the feature to build our model for predicting the $CO_{2}$ emission of vehicles."
   ]
  },
  {
   "cell_type": "markdown",
   "metadata": {},
   "source": [
    "### ANOVA test for FUEL TYPE"
   ]
  },
  {
   "cell_type": "code",
   "execution_count": 240,
   "metadata": {},
   "outputs": [],
   "source": [
    "fuel_grp = data.groupby(\"FUEL TYPE\")\n",
    "\n",
    "fuel_emission = []\n",
    "\n",
    "for f in fuel_grp.indices.keys():\n",
    "    fuel_emission.append(fuel_grp.get_group(f)[\"CO2 EMISSIONS (g/km)\"])"
   ]
  },
  {
   "cell_type": "code",
   "execution_count": 241,
   "metadata": {},
   "outputs": [
    {
     "name": "stdout",
     "output_type": "stream",
     "text": [
      "F-score: 138.30874429455258\tp-value: 4.557773247644173e-117\n"
     ]
    }
   ],
   "source": [
    "f_score_fuel, p_val_fuel = stats.f_oneway(*fuel_emission)\n",
    "\n",
    "print(f\"F-score: {f_score_fuel}\\tp-value: {p_val_fuel}\")"
   ]
  },
  {
   "cell_type": "markdown",
   "metadata": {},
   "source": [
    "* The **F-score** and **p-value** confirms that the difference between average $CO_{2}$ emissions of each fuel type is significant.<br>Thus, we include the feature to build our model for predicting the $CO_{2}$ emission of vehicles."
   ]
  },
  {
   "cell_type": "markdown",
   "metadata": {},
   "source": [
    "<hr>"
   ]
  },
  {
   "cell_type": "markdown",
   "metadata": {},
   "source": [
    "## One-Hot encoding on Categorical variables"
   ]
  },
  {
   "cell_type": "markdown",
   "metadata": {},
   "source": [
    "* Let's convert all the categorical variables in the data into a numerical variables by One-Hot encoding."
   ]
  },
  {
   "cell_type": "code",
   "execution_count": 242,
   "metadata": {},
   "outputs": [],
   "source": [
    "make_dummy = pd.get_dummies(data[\"MAKE\"], prefix=\"MAKE\")\n",
    "\n",
    "data = data.join(make_dummy)"
   ]
  },
  {
   "cell_type": "code",
   "execution_count": 243,
   "metadata": {},
   "outputs": [],
   "source": [
    "vehicle_cls_dummy = pd.get_dummies(data[\"VEHICLE CLASS\"], prefix=\"VEHICLE_CLASS\")\n",
    "\n",
    "data = data.join(vehicle_cls_dummy)"
   ]
  },
  {
   "cell_type": "code",
   "execution_count": 244,
   "metadata": {},
   "outputs": [],
   "source": [
    "trans_dummy = pd.get_dummies(data[\"TRANSMISSION\"], prefix=\"TRANSMISSION\")\n",
    "\n",
    "data = data.join(trans_dummy)"
   ]
  },
  {
   "cell_type": "code",
   "execution_count": 245,
   "metadata": {},
   "outputs": [],
   "source": [
    "fuel_type_dummy = pd.get_dummies(data[\"FUEL TYPE\"], prefix=\"FUEL_TYPE\")\n",
    "\n",
    "data = data.join(fuel_type_dummy)"
   ]
  },
  {
   "cell_type": "markdown",
   "metadata": {},
   "source": [
    "* Now, let's drop the unwanted columns from the data."
   ]
  },
  {
   "cell_type": "code",
   "execution_count": 246,
   "metadata": {},
   "outputs": [],
   "source": [
    "columns_to_drop = [\"MODEL YEAR\", \"MAKE\", \"MODEL\", \"VEHICLE CLASS\", \"TRANSMISSION\", \"FUEL TYPE\"]\n",
    "\n",
    "data.drop(columns_to_drop, axis=1, inplace=True)"
   ]
  },
  {
   "cell_type": "code",
   "execution_count": 247,
   "metadata": {},
   "outputs": [
    {
     "data": {
      "text/html": [
       "<div>\n",
       "<style scoped>\n",
       "    .dataframe tbody tr th:only-of-type {\n",
       "        vertical-align: middle;\n",
       "    }\n",
       "\n",
       "    .dataframe tbody tr th {\n",
       "        vertical-align: top;\n",
       "    }\n",
       "\n",
       "    .dataframe thead th {\n",
       "        text-align: right;\n",
       "    }\n",
       "</style>\n",
       "<table border=\"1\" class=\"dataframe\">\n",
       "  <thead>\n",
       "    <tr style=\"text-align: right;\">\n",
       "      <th></th>\n",
       "      <th>ENGINE SIZE (L)</th>\n",
       "      <th>CYLINDERS</th>\n",
       "      <th>FUEL CONSUMPTION CITY (L/100)</th>\n",
       "      <th>FUEL CONSUMPTION HWY (L/100)</th>\n",
       "      <th>FUEL CONSUMPTION COMB (L/100)</th>\n",
       "      <th>FUEL CONSUMPTION COMB (mpg)</th>\n",
       "      <th>CO2 EMISSIONS (g/km)</th>\n",
       "      <th>MAKE_ACURA</th>\n",
       "      <th>MAKE_ALFA ROMEO</th>\n",
       "      <th>MAKE_ASTON MARTIN</th>\n",
       "      <th>...</th>\n",
       "      <th>TRANSMISSION_AV8</th>\n",
       "      <th>TRANSMISSION_M4</th>\n",
       "      <th>TRANSMISSION_M5</th>\n",
       "      <th>TRANSMISSION_M6</th>\n",
       "      <th>TRANSMISSION_M7</th>\n",
       "      <th>FUEL_TYPE_D</th>\n",
       "      <th>FUEL_TYPE_E</th>\n",
       "      <th>FUEL_TYPE_N</th>\n",
       "      <th>FUEL_TYPE_X</th>\n",
       "      <th>FUEL_TYPE_Z</th>\n",
       "    </tr>\n",
       "  </thead>\n",
       "  <tbody>\n",
       "    <tr>\n",
       "      <th>0</th>\n",
       "      <td>1.8</td>\n",
       "      <td>4</td>\n",
       "      <td>10.2</td>\n",
       "      <td>7.0</td>\n",
       "      <td>8.8</td>\n",
       "      <td>32</td>\n",
       "      <td>202</td>\n",
       "      <td>1</td>\n",
       "      <td>0</td>\n",
       "      <td>0</td>\n",
       "      <td>...</td>\n",
       "      <td>0</td>\n",
       "      <td>0</td>\n",
       "      <td>0</td>\n",
       "      <td>0</td>\n",
       "      <td>0</td>\n",
       "      <td>0</td>\n",
       "      <td>0</td>\n",
       "      <td>0</td>\n",
       "      <td>1</td>\n",
       "      <td>0</td>\n",
       "    </tr>\n",
       "    <tr>\n",
       "      <th>1</th>\n",
       "      <td>1.8</td>\n",
       "      <td>4</td>\n",
       "      <td>9.6</td>\n",
       "      <td>7.0</td>\n",
       "      <td>8.4</td>\n",
       "      <td>34</td>\n",
       "      <td>193</td>\n",
       "      <td>1</td>\n",
       "      <td>0</td>\n",
       "      <td>0</td>\n",
       "      <td>...</td>\n",
       "      <td>0</td>\n",
       "      <td>0</td>\n",
       "      <td>1</td>\n",
       "      <td>0</td>\n",
       "      <td>0</td>\n",
       "      <td>0</td>\n",
       "      <td>0</td>\n",
       "      <td>0</td>\n",
       "      <td>1</td>\n",
       "      <td>0</td>\n",
       "    </tr>\n",
       "    <tr>\n",
       "      <th>2</th>\n",
       "      <td>1.8</td>\n",
       "      <td>4</td>\n",
       "      <td>9.4</td>\n",
       "      <td>7.0</td>\n",
       "      <td>8.3</td>\n",
       "      <td>34</td>\n",
       "      <td>191</td>\n",
       "      <td>1</td>\n",
       "      <td>0</td>\n",
       "      <td>0</td>\n",
       "      <td>...</td>\n",
       "      <td>0</td>\n",
       "      <td>0</td>\n",
       "      <td>1</td>\n",
       "      <td>0</td>\n",
       "      <td>0</td>\n",
       "      <td>0</td>\n",
       "      <td>0</td>\n",
       "      <td>0</td>\n",
       "      <td>0</td>\n",
       "      <td>1</td>\n",
       "    </tr>\n",
       "    <tr>\n",
       "      <th>3</th>\n",
       "      <td>3.2</td>\n",
       "      <td>6</td>\n",
       "      <td>12.6</td>\n",
       "      <td>8.9</td>\n",
       "      <td>10.9</td>\n",
       "      <td>26</td>\n",
       "      <td>251</td>\n",
       "      <td>1</td>\n",
       "      <td>0</td>\n",
       "      <td>0</td>\n",
       "      <td>...</td>\n",
       "      <td>0</td>\n",
       "      <td>0</td>\n",
       "      <td>0</td>\n",
       "      <td>0</td>\n",
       "      <td>0</td>\n",
       "      <td>0</td>\n",
       "      <td>0</td>\n",
       "      <td>0</td>\n",
       "      <td>0</td>\n",
       "      <td>1</td>\n",
       "    </tr>\n",
       "    <tr>\n",
       "      <th>4</th>\n",
       "      <td>3.2</td>\n",
       "      <td>6</td>\n",
       "      <td>13.0</td>\n",
       "      <td>9.3</td>\n",
       "      <td>11.3</td>\n",
       "      <td>25</td>\n",
       "      <td>260</td>\n",
       "      <td>1</td>\n",
       "      <td>0</td>\n",
       "      <td>0</td>\n",
       "      <td>...</td>\n",
       "      <td>0</td>\n",
       "      <td>0</td>\n",
       "      <td>0</td>\n",
       "      <td>0</td>\n",
       "      <td>0</td>\n",
       "      <td>0</td>\n",
       "      <td>0</td>\n",
       "      <td>0</td>\n",
       "      <td>0</td>\n",
       "      <td>1</td>\n",
       "    </tr>\n",
       "  </tbody>\n",
       "</table>\n",
       "<p>5 rows × 113 columns</p>\n",
       "</div>"
      ],
      "text/plain": [
       "   ENGINE SIZE (L)  CYLINDERS  FUEL CONSUMPTION CITY (L/100)  \\\n",
       "0              1.8          4                           10.2   \n",
       "1              1.8          4                            9.6   \n",
       "2              1.8          4                            9.4   \n",
       "3              3.2          6                           12.6   \n",
       "4              3.2          6                           13.0   \n",
       "\n",
       "   FUEL CONSUMPTION HWY (L/100)  FUEL CONSUMPTION COMB (L/100)  \\\n",
       "0                           7.0                            8.8   \n",
       "1                           7.0                            8.4   \n",
       "2                           7.0                            8.3   \n",
       "3                           8.9                           10.9   \n",
       "4                           9.3                           11.3   \n",
       "\n",
       "   FUEL CONSUMPTION COMB (mpg)  CO2 EMISSIONS (g/km)  MAKE_ACURA  \\\n",
       "0                           32                   202           1   \n",
       "1                           34                   193           1   \n",
       "2                           34                   191           1   \n",
       "3                           26                   251           1   \n",
       "4                           25                   260           1   \n",
       "\n",
       "   MAKE_ALFA ROMEO  MAKE_ASTON MARTIN  ...  TRANSMISSION_AV8  TRANSMISSION_M4  \\\n",
       "0                0                  0  ...                 0                0   \n",
       "1                0                  0  ...                 0                0   \n",
       "2                0                  0  ...                 0                0   \n",
       "3                0                  0  ...                 0                0   \n",
       "4                0                  0  ...                 0                0   \n",
       "\n",
       "   TRANSMISSION_M5  TRANSMISSION_M6  TRANSMISSION_M7  FUEL_TYPE_D  \\\n",
       "0                0                0                0            0   \n",
       "1                1                0                0            0   \n",
       "2                1                0                0            0   \n",
       "3                0                0                0            0   \n",
       "4                0                0                0            0   \n",
       "\n",
       "   FUEL_TYPE_E  FUEL_TYPE_N  FUEL_TYPE_X  FUEL_TYPE_Z  \n",
       "0            0            0            1            0  \n",
       "1            0            0            1            0  \n",
       "2            0            0            0            1  \n",
       "3            0            0            0            1  \n",
       "4            0            0            0            1  \n",
       "\n",
       "[5 rows x 113 columns]"
      ]
     },
     "execution_count": 247,
     "metadata": {},
     "output_type": "execute_result"
    }
   ],
   "source": [
    "data.head()"
   ]
  },
  {
   "cell_type": "code",
   "execution_count": 248,
   "metadata": {},
   "outputs": [
    {
     "data": {
      "text/plain": [
       "(24097, 113)"
      ]
     },
     "execution_count": 248,
     "metadata": {},
     "output_type": "execute_result"
    }
   ],
   "source": [
    "data.shape"
   ]
  },
  {
   "cell_type": "markdown",
   "metadata": {},
   "source": [
    "* The data now has 24097 rows and 113 columns."
   ]
  },
  {
   "cell_type": "markdown",
   "metadata": {},
   "source": [
    "<hr>"
   ]
  },
  {
   "cell_type": "markdown",
   "metadata": {},
   "source": [
    "## Training, Validation and Testing data"
   ]
  },
  {
   "cell_type": "code",
   "execution_count": 249,
   "metadata": {},
   "outputs": [],
   "source": [
    "from sklearn.model_selection import train_test_split"
   ]
  },
  {
   "cell_type": "code",
   "execution_count": 250,
   "metadata": {},
   "outputs": [],
   "source": [
    "X = data.drop(\"CO2 EMISSIONS (g/km)\", axis=1)\n",
    "y = data[\"CO2 EMISSIONS (g/km)\"]"
   ]
  },
  {
   "cell_type": "code",
   "execution_count": 251,
   "metadata": {},
   "outputs": [],
   "source": [
    "X_train, X_test, y_train, y_test = train_test_split(X, y, test_size=0.4, random_state=101)"
   ]
  },
  {
   "cell_type": "code",
   "execution_count": 252,
   "metadata": {},
   "outputs": [],
   "source": [
    "X_test, X_val, y_test, y_val = train_test_split(X_test, y_test, test_size=0.5, random_state=101)"
   ]
  },
  {
   "cell_type": "code",
   "execution_count": 253,
   "metadata": {},
   "outputs": [
    {
     "name": "stdout",
     "output_type": "stream",
     "text": [
      "Training data shape: (14458, 112) (14458,)\n",
      "Validation data shape: (4820, 112) (4820,)\n",
      "Test data shape: (4819, 112) (4819,)\n"
     ]
    }
   ],
   "source": [
    "print(\"Training data shape:\", X_train.shape, y_train.shape)\n",
    "print(\"Validation data shape:\", X_val.shape, y_val.shape)\n",
    "print(\"Test data shape:\", X_test.shape, y_test.shape)"
   ]
  },
  {
   "cell_type": "markdown",
   "metadata": {},
   "source": [
    "<hr>"
   ]
  },
  {
   "cell_type": "markdown",
   "metadata": {},
   "source": [
    "## Scaling data for a few algorithms"
   ]
  },
  {
   "cell_type": "code",
   "execution_count": 254,
   "metadata": {},
   "outputs": [],
   "source": [
    "from sklearn.preprocessing import MinMaxScaler"
   ]
  },
  {
   "cell_type": "code",
   "execution_count": 255,
   "metadata": {},
   "outputs": [
    {
     "data": {
      "text/plain": [
       "MinMaxScaler()"
      ]
     },
     "execution_count": 255,
     "metadata": {},
     "output_type": "execute_result"
    }
   ],
   "source": [
    "scaler = MinMaxScaler()\n",
    "\n",
    "scaler.fit(X_train)"
   ]
  },
  {
   "cell_type": "code",
   "execution_count": 256,
   "metadata": {},
   "outputs": [],
   "source": [
    "X_train_scaled = scaler.transform(X_train)\n",
    "X_val_scaled = scaler.transform(X_val)\n",
    "X_test_scaled = scaler.transform(X_test)"
   ]
  },
  {
   "cell_type": "markdown",
   "metadata": {},
   "source": [
    "<hr>"
   ]
  },
  {
   "cell_type": "markdown",
   "metadata": {},
   "source": [
    "## Linear Regression"
   ]
  },
  {
   "cell_type": "code",
   "execution_count": 257,
   "metadata": {},
   "outputs": [],
   "source": [
    "from sklearn.linear_model import LinearRegression"
   ]
  },
  {
   "cell_type": "code",
   "execution_count": 258,
   "metadata": {},
   "outputs": [
    {
     "data": {
      "text/plain": [
       "LinearRegression()"
      ]
     },
     "execution_count": 258,
     "metadata": {},
     "output_type": "execute_result"
    }
   ],
   "source": [
    "lr = LinearRegression()\n",
    "\n",
    "lr.fit(X_train, y_train)"
   ]
  },
  {
   "cell_type": "markdown",
   "metadata": {},
   "source": [
    "**Model performance on Validation set and Test set**"
   ]
  },
  {
   "cell_type": "code",
   "execution_count": 259,
   "metadata": {},
   "outputs": [
    {
     "name": "stdout",
     "output_type": "stream",
     "text": [
      "Validation score: 0.9951\n",
      "\n",
      "Test score: 0.9951\n"
     ]
    }
   ],
   "source": [
    "print(\"Validation score:\", round(lr.score(X_val, y_val), 4))\n",
    "print()\n",
    "print(\"Test score:\", round(lr.score(X_test, y_test), 4))"
   ]
  },
  {
   "cell_type": "markdown",
   "metadata": {},
   "source": [
    "**Root Mean Squared Error (RMSE) of the model on the Validation set and Test set.**"
   ]
  },
  {
   "cell_type": "code",
   "execution_count": 260,
   "metadata": {},
   "outputs": [
    {
     "name": "stdout",
     "output_type": "stream",
     "text": [
      "RMSE on Validation set: 4.134\n",
      "\n",
      "RMSE on Test set: 4.226\n"
     ]
    }
   ],
   "source": [
    "lr_val_pred = lr.predict(X_val)\n",
    "lr_test_pred = lr.predict(X_test)\n",
    "\n",
    "print(\"RMSE on Validation set:\", round(np.sqrt(mean_squared_error(y_val, lr_val_pred)), 3))\n",
    "print()\n",
    "print(\"RMSE on Test set:\", round(np.sqrt(mean_squared_error(y_test, lr_test_pred)), 3))"
   ]
  },
  {
   "cell_type": "markdown",
   "metadata": {},
   "source": [
    "* Thus on average, the difference between the actual values and predicted values on the Validation set is **4.134**.\n",
    "\n",
    "* The average difference between the actual values and predicted values on the Test set is **4.226**."
   ]
  },
  {
   "cell_type": "markdown",
   "metadata": {},
   "source": [
    "**Feature Importance**"
   ]
  },
  {
   "cell_type": "code",
   "execution_count": 261,
   "metadata": {},
   "outputs": [],
   "source": [
    "lr_feat_imp = sorted(zip(X.columns, lr.coef_), key=lambda x: abs(x[1]), reverse=True)"
   ]
  },
  {
   "cell_type": "code",
   "execution_count": 262,
   "metadata": {},
   "outputs": [
    {
     "data": {
      "image/png": "[encoded data removed]",
      "text/plain": [
       "<Figure size 720x432 with 1 Axes>"
      ]
     },
     "metadata": {
      "needs_background": "light"
     },
     "output_type": "display_data"
    }
   ],
   "source": [
    "plt.figure(figsize=(10,6))\n",
    "plt.title(\"Linear Regression: Top 10 important features\")\n",
    "\n",
    "sns.barplot(x=list(map(lambda x: x[1], lr_feat_imp[:10])),\n",
    "            y=list(map(lambda x: x[0], lr_feat_imp[:10])),\n",
    "            orient=\"h\");"
   ]
  },
  {
   "cell_type": "markdown",
   "metadata": {},
   "source": [
    "* It is really interesting to see that the different FUEL TYPES have the most influence in predicting the amount of $CO_{2}$ emission by the vehicles."
   ]
  },
  {
   "cell_type": "markdown",
   "metadata": {},
   "source": [
    "<hr>"
   ]
  },
  {
   "cell_type": "markdown",
   "metadata": {},
   "source": [
    "## Ridge Regression"
   ]
  },
  {
   "cell_type": "code",
   "execution_count": 263,
   "metadata": {},
   "outputs": [],
   "source": [
    "from sklearn.linear_model import Ridge"
   ]
  },
  {
   "cell_type": "code",
   "execution_count": 264,
   "metadata": {},
   "outputs": [],
   "source": [
    "# # Code to perform hyperparameter tuning using GridSearchCV\n",
    "\n",
    "# rr = Ridge()\n",
    "# rr_params = {\"alpha\": np.logspace(-4, 4, 9)}\n",
    "\n",
    "# rr_cv = GridSearchCV(rr, rr_params)\n",
    "# rr_cv.fit(X_train_scaled, y_train)\n",
    "\n",
    "# print(rr_cv.best_params_)                      # prints the best parameter set of the model (alpha=0.0001)\n",
    "\n",
    "# rr_best = rr_cv.best_estimator_\n",
    "# rr_best.fit(X_train_scaled, y_train)\n",
    "\n",
    "# print(rr_best.score(X_val_scaled, y_val))\n",
    "# print(rr_best.score(X_test_scaled, y_test))"
   ]
  },
  {
   "cell_type": "code",
   "execution_count": 265,
   "metadata": {},
   "outputs": [
    {
     "data": {
      "text/plain": [
       "Ridge(alpha=0.0001)"
      ]
     },
     "execution_count": 265,
     "metadata": {},
     "output_type": "execute_result"
    }
   ],
   "source": [
    "rr = Ridge(alpha=0.0001)\n",
    "\n",
    "rr.fit(X_train_scaled, y_train)"
   ]
  },
  {
   "cell_type": "markdown",
   "metadata": {},
   "source": [
    "**Model performance on Validation set and Test set**"
   ]
  },
  {
   "cell_type": "code",
   "execution_count": 266,
   "metadata": {},
   "outputs": [
    {
     "name": "stdout",
     "output_type": "stream",
     "text": [
      "Validation score: 0.9951\n",
      "\n",
      "Test score: 0.9951\n"
     ]
    }
   ],
   "source": [
    "print(\"Validation score:\", round(rr.score(X_val_scaled, y_val), 4))\n",
    "print()\n",
    "print(\"Test score:\", round(rr.score(X_test_scaled, y_test), 4))"
   ]
  },
  {
   "cell_type": "markdown",
   "metadata": {},
   "source": [
    "**Root Mean Squared Error (RMSE) of the model on the Validation set and Test set.**"
   ]
  },
  {
   "cell_type": "code",
   "execution_count": 267,
   "metadata": {},
   "outputs": [
    {
     "name": "stdout",
     "output_type": "stream",
     "text": [
      "RMSE on Validation set: 4.134\n",
      "\n",
      "RMSE on Test set: 4.226\n"
     ]
    }
   ],
   "source": [
    "rr_val_pred = rr.predict(X_val_scaled)\n",
    "rr_test_pred = rr.predict(X_test_scaled)\n",
    "\n",
    "print(\"RMSE on Validation set:\", round(np.sqrt(mean_squared_error(y_val, rr_val_pred)), 3))\n",
    "print()\n",
    "print(\"RMSE on Test set:\", round(np.sqrt(mean_squared_error(y_test, rr_test_pred)), 3))"
   ]
  },
  {
   "cell_type": "markdown",
   "metadata": {},
   "source": [
    "* Thus on average, the difference between the actual values and predicted values on the Validation set is **4.134**.\n",
    "\n",
    "* The average difference between the actual values and predicted values on the Test set is **4.226**."
   ]
  },
  {
   "cell_type": "markdown",
   "metadata": {},
   "source": [
    "**Feature Importance**"
   ]
  },
  {
   "cell_type": "code",
   "execution_count": 268,
   "metadata": {},
   "outputs": [],
   "source": [
    "rr_feat_imp = sorted(zip(X.columns, rr.coef_), key=lambda x: abs(x[1]), reverse=True)"
   ]
  },
  {
   "cell_type": "code",
   "execution_count": 269,
   "metadata": {},
   "outputs": [
    {
     "data": {
      "image/png": "[encoded data removed]",
      "text/plain": [
       "<Figure size 720x432 with 1 Axes>"
      ]
     },
     "metadata": {
      "needs_background": "light"
     },
     "output_type": "display_data"
    }
   ],
   "source": [
    "plt.figure(figsize=(10,6))\n",
    "plt.title(\"Ridge Regression: Top 10 important features\")\n",
    "\n",
    "sns.barplot(x=list(map(lambda x: x[1], rr_feat_imp[:10])),\n",
    "            y=list(map(lambda x: x[0], rr_feat_imp[:10])),\n",
    "            orient=\"h\");"
   ]
  },
  {
   "cell_type": "markdown",
   "metadata": {},
   "source": [
    "* FUEL CONSUMPTION COMB (L/100) has the most influence in predicting the $CO_{2}$ emission."
   ]
  },
  {
   "cell_type": "markdown",
   "metadata": {},
   "source": [
    "<hr>"
   ]
  },
  {
   "cell_type": "markdown",
   "metadata": {},
   "source": [
    "## Lasso Regression"
   ]
  },
  {
   "cell_type": "code",
   "execution_count": 270,
   "metadata": {},
   "outputs": [],
   "source": [
    "from sklearn.linear_model import Lasso"
   ]
  },
  {
   "cell_type": "code",
   "execution_count": 271,
   "metadata": {},
   "outputs": [],
   "source": [
    "# # Code to perform hyperparameter tuning using GridSearchCV\n",
    "\n",
    "# las = Lasso()\n",
    "# las_params = {\"alpha\": np.logspace(-4, 4, 9)}\n",
    "\n",
    "# las_cv = GridSearchCV(las, las_params)\n",
    "# las_cv.fit(X_train_scaled, y_train)\n",
    "\n",
    "# print(las_cv.best_params_)               # prints the best parameter set of the model (alpha=0.001)\n",
    "\n",
    "# las_best = las_cv.best_estimator_\n",
    "# las_best.fit(X_train_scaled, y_train)\n",
    "\n",
    "# print(las_best.score(X_val_scaled, y_val))\n",
    "# print(las_best.score(X_test_scaled, y_test))"
   ]
  },
  {
   "cell_type": "code",
   "execution_count": 272,
   "metadata": {},
   "outputs": [
    {
     "name": "stderr",
     "output_type": "stream",
     "text": [
      "c:\\users\\dell\\appdata\\local\\programs\\python\\python38\\lib\\site-packages\\sklearn\\linear_model\\_coordinate_descent.py:530: ConvergenceWarning: Objective did not converge. You might want to increase the number of iterations. Duality gap: 13431.444700492779, tolerance: 5123.884597399365\n",
      "  model = cd_fast.enet_coordinate_descent(\n"
     ]
    },
    {
     "data": {
      "text/plain": [
       "Lasso(alpha=0.001)"
      ]
     },
     "execution_count": 272,
     "metadata": {},
     "output_type": "execute_result"
    }
   ],
   "source": [
    "las = Lasso(alpha=0.001)\n",
    "\n",
    "las.fit(X_train_scaled, y_train)"
   ]
  },
  {
   "cell_type": "markdown",
   "metadata": {},
   "source": [
    "**Model performance on Validation set and Test set**"
   ]
  },
  {
   "cell_type": "code",
   "execution_count": 273,
   "metadata": {},
   "outputs": [
    {
     "name": "stdout",
     "output_type": "stream",
     "text": [
      "Validation score: 0.9949\n",
      "\n",
      "Test score: 0.9948\n"
     ]
    }
   ],
   "source": [
    "print(\"Validation score:\", round(las.score(X_val_scaled, y_val), 4))\n",
    "print()\n",
    "print(\"Test score:\", round(las.score(X_test_scaled, y_test), 4))"
   ]
  },
  {
   "cell_type": "markdown",
   "metadata": {},
   "source": [
    "**Root Mean Squared Error (RMSE) of the model on the Validation set and Test set.**"
   ]
  },
  {
   "cell_type": "code",
   "execution_count": 274,
   "metadata": {},
   "outputs": [
    {
     "name": "stdout",
     "output_type": "stream",
     "text": [
      "RMSE on Validation set: 4.205\n",
      "\n",
      "RMSE on Test set: 4.348\n"
     ]
    }
   ],
   "source": [
    "las_val_pred = las.predict(X_val_scaled)\n",
    "las_test_pred = las.predict(X_test_scaled)\n",
    "\n",
    "print(\"RMSE on Validation set:\", round(np.sqrt(mean_squared_error(y_val, las_val_pred)), 3))\n",
    "print()\n",
    "print(\"RMSE on Test set:\", round(np.sqrt(mean_squared_error(y_test, las_test_pred)), 3))"
   ]
  },
  {
   "cell_type": "markdown",
   "metadata": {},
   "source": [
    "* Thus on average, the difference between the actual values and predicted values on the Validation set is **4.205**.\n",
    "\n",
    "* The average difference between the actual values and predicted values on the Test set is **4.348**."
   ]
  },
  {
   "cell_type": "markdown",
   "metadata": {},
   "source": [
    "**Feature Importance**"
   ]
  },
  {
   "cell_type": "code",
   "execution_count": 275,
   "metadata": {},
   "outputs": [],
   "source": [
    "las_feat_imp = sorted(zip(X.columns, las.coef_), key=lambda x: abs(x[1]), reverse=True)"
   ]
  },
  {
   "cell_type": "code",
   "execution_count": 276,
   "metadata": {},
   "outputs": [
    {
     "data": {
      "image/png": "[encoded data removed]",
      "text/plain": [
       "<Figure size 720x432 with 1 Axes>"
      ]
     },
     "metadata": {
      "needs_background": "light"
     },
     "output_type": "display_data"
    }
   ],
   "source": [
    "plt.figure(figsize=(10,6))\n",
    "plt.title(\"Lasso Regression: Top 10 important features\")\n",
    "\n",
    "sns.barplot(x=list(map(lambda x: x[1], las_feat_imp[:10])),\n",
    "            y=list(map(lambda x: x[0], las_feat_imp[:10])),\n",
    "            orient=\"h\");"
   ]
  },
  {
   "cell_type": "markdown",
   "metadata": {},
   "source": [
    "* FUEL CONSUMPTION CITY (L/100) and FUEL CONSUMPTION HWY (L/100) have the most influence."
   ]
  },
  {
   "cell_type": "markdown",
   "metadata": {},
   "source": [
    "<hr>"
   ]
  },
  {
   "cell_type": "markdown",
   "metadata": {},
   "source": [
    "## KNN"
   ]
  },
  {
   "cell_type": "code",
   "execution_count": 277,
   "metadata": {},
   "outputs": [],
   "source": [
    "from sklearn.neighbors import KNeighborsRegressor"
   ]
  },
  {
   "cell_type": "code",
   "execution_count": 278,
   "metadata": {},
   "outputs": [],
   "source": [
    "# # Code to perform hyperparameter tuning using GridSearchCV\n",
    "\n",
    "# knn = KNeighborsRegressor()\n",
    "# knn_params = {\"n_neighbors\": [1, 5, 10, 20, 30, 50, 75, 100]}\n",
    "\n",
    "# knn_cv = GridSearchCV(knn, knn_params)\n",
    "# knn_cv.fit(X_train_scaled, y_train)\n",
    "\n",
    "# print(knn_cv.best_params_)               # prints the best parameter set of the model (n_neighbors=1)\n",
    "\n",
    "# knn_best = knn_cv.best_estimator_\n",
    "# knn_best.fit(X_train_scaled, y_train)\n",
    "\n",
    "# print(knn_best.score(X_val_scaled, y_val))\n",
    "# print(knn_best.score(X_test_scaled, y_test))"
   ]
  },
  {
   "cell_type": "code",
   "execution_count": 279,
   "metadata": {},
   "outputs": [
    {
     "data": {
      "text/plain": [
       "KNeighborsRegressor(n_neighbors=1)"
      ]
     },
     "execution_count": 279,
     "metadata": {},
     "output_type": "execute_result"
    }
   ],
   "source": [
    "knn = KNeighborsRegressor(n_neighbors=1)\n",
    "\n",
    "knn.fit(X_train_scaled, y_train)"
   ]
  },
  {
   "cell_type": "markdown",
   "metadata": {},
   "source": [
    "**Model performance on Validation set and Test set**"
   ]
  },
  {
   "cell_type": "code",
   "execution_count": 280,
   "metadata": {},
   "outputs": [
    {
     "name": "stdout",
     "output_type": "stream",
     "text": [
      "Validation score: 0.9792\n",
      "\n",
      "Test score: 0.9775\n"
     ]
    }
   ],
   "source": [
    "print(\"Validation score:\", round(knn.score(X_val_scaled, y_val), 4))\n",
    "print()\n",
    "print(\"Test score:\", round(knn.score(X_test_scaled, y_test), 4))"
   ]
  },
  {
   "cell_type": "markdown",
   "metadata": {},
   "source": [
    "**Root Mean Squared Error (RMSE) of the model on the Validation set and Test set.**"
   ]
  },
  {
   "cell_type": "code",
   "execution_count": 281,
   "metadata": {},
   "outputs": [
    {
     "name": "stdout",
     "output_type": "stream",
     "text": [
      "RMSE on Validation set: 8.521\n",
      "\n",
      "RMSE on Test set: 9.025\n"
     ]
    }
   ],
   "source": [
    "knn_val_pred = knn.predict(X_val_scaled)\n",
    "knn_test_pred = knn.predict(X_test_scaled)\n",
    "\n",
    "print(\"RMSE on Validation set:\", round(np.sqrt(mean_squared_error(y_val, knn_val_pred)), 3))\n",
    "print()\n",
    "print(\"RMSE on Test set:\", round(np.sqrt(mean_squared_error(y_test, knn_test_pred)), 3))"
   ]
  },
  {
   "cell_type": "markdown",
   "metadata": {},
   "source": [
    "* Thus on average, the difference between the actual values and predicted values on the Validation set is **8.521**.\n",
    "\n",
    "* The average difference between the actual values and predicted values on the Test set is **9.025**."
   ]
  },
  {
   "cell_type": "markdown",
   "metadata": {},
   "source": [
    "**Feature Importance**"
   ]
  },
  {
   "cell_type": "markdown",
   "metadata": {},
   "source": [
    "* There doesn't exist an attribute for KNN object to view the importance of features."
   ]
  },
  {
   "cell_type": "markdown",
   "metadata": {},
   "source": [
    "## Decision Tree"
   ]
  },
  {
   "cell_type": "code",
   "execution_count": 282,
   "metadata": {},
   "outputs": [],
   "source": [
    "from sklearn.tree import DecisionTreeRegressor"
   ]
  },
  {
   "cell_type": "code",
   "execution_count": 283,
   "metadata": {},
   "outputs": [],
   "source": [
    "# # Code to perform hyperparameter tuning using GridSearchCV\n",
    "\n",
    "# dt = DecisionTreeRegressor(random_state=101)\n",
    "# dt_params = {\"max_depth\": [3, 5, 10, 15, 20, 30, 40, 50, 70, 100, None]}\n",
    "\n",
    "# dt_cv = GridSearchCV(dt, dt_params)\n",
    "# dt_cv.fit(X_train, y_train)\n",
    "\n",
    "# print(dt_cv.best_params_)             # prints the best parameter set of the model (max_depth=15)\n",
    "\n",
    "# dt_best = dt_cv.best_estimator_\n",
    "# dt_best.fit(X_train, y_train)\n",
    "\n",
    "# print(dt_best.score(X_val, y_val))\n",
    "# print(dt_best.score(X_test, y_test))"
   ]
  },
  {
   "cell_type": "code",
   "execution_count": 284,
   "metadata": {},
   "outputs": [
    {
     "data": {
      "text/plain": [
       "DecisionTreeRegressor(max_depth=15, random_state=101)"
      ]
     },
     "execution_count": 284,
     "metadata": {},
     "output_type": "execute_result"
    }
   ],
   "source": [
    "dt = DecisionTreeRegressor(max_depth=15, random_state=101)\n",
    "\n",
    "dt.fit(X_train, y_train)"
   ]
  },
  {
   "cell_type": "markdown",
   "metadata": {},
   "source": [
    "**Model performance on Validation set and Test set**"
   ]
  },
  {
   "cell_type": "code",
   "execution_count": 285,
   "metadata": {},
   "outputs": [
    {
     "name": "stdout",
     "output_type": "stream",
     "text": [
      "Validation score: 0.9987\n",
      "\n",
      "Test score: 0.9981\n"
     ]
    }
   ],
   "source": [
    "print(\"Validation score:\", round(dt.score(X_val, y_val), 4))\n",
    "print()\n",
    "print(\"Test score:\", round(dt.score(X_test, y_test), 4))"
   ]
  },
  {
   "cell_type": "markdown",
   "metadata": {},
   "source": [
    "**Root Mean Squared Error (RMSE) of the model on the Validation set and Test set.**"
   ]
  },
  {
   "cell_type": "code",
   "execution_count": 286,
   "metadata": {},
   "outputs": [
    {
     "name": "stdout",
     "output_type": "stream",
     "text": [
      "RMSE on Validation set: 2.114\n",
      "\n",
      "RMSE on Test set: 2.659\n"
     ]
    }
   ],
   "source": [
    "dt_val_pred = dt.predict(X_val)\n",
    "dt_test_pred = dt.predict(X_test)\n",
    "\n",
    "print(\"RMSE on Validation set:\", round(np.sqrt(mean_squared_error(y_val, dt_val_pred)), 3))\n",
    "print()\n",
    "print(\"RMSE on Test set:\", round(np.sqrt(mean_squared_error(y_test, dt_test_pred)), 3))"
   ]
  },
  {
   "cell_type": "markdown",
   "metadata": {},
   "source": [
    "* Thus on average, the difference between the actual values and predicted values on the Validation set is **2.114**.\n",
    "\n",
    "* The average difference between the actual values and predicted values on the Test set is **2.659**."
   ]
  },
  {
   "cell_type": "markdown",
   "metadata": {},
   "source": [
    "**Feature Importance**"
   ]
  },
  {
   "cell_type": "code",
   "execution_count": 287,
   "metadata": {},
   "outputs": [],
   "source": [
    "dt_feat_imp = sorted(zip(X.columns, dt.feature_importances_), key=lambda x: abs(x[1]), reverse=True)"
   ]
  },
  {
   "cell_type": "code",
   "execution_count": 288,
   "metadata": {},
   "outputs": [
    {
     "data": {
      "image/png": "[encoded data removed]",
      "text/plain": [
       "<Figure size 720x432 with 1 Axes>"
      ]
     },
     "metadata": {
      "needs_background": "light"
     },
     "output_type": "display_data"
    }
   ],
   "source": [
    "plt.figure(figsize=(10,6))\n",
    "plt.title(\"Decision Tree: Top 10 important features\")\n",
    "\n",
    "sns.barplot(x=list(map(lambda x: x[1], dt_feat_imp[:10])),\n",
    "            y=list(map(lambda x: x[0], dt_feat_imp[:10])),\n",
    "            orient=\"h\");"
   ]
  },
  {
   "cell_type": "markdown",
   "metadata": {},
   "source": [
    "* FUEL CONSUMPTION COMB (mpg) and FUEL CONSUMPTION COMB (L/100) have the most influence in predicting the $CO_{2}$ emission."
   ]
  },
  {
   "cell_type": "markdown",
   "metadata": {},
   "source": [
    "<hr>"
   ]
  },
  {
   "cell_type": "markdown",
   "metadata": {},
   "source": [
    "## Random Forest"
   ]
  },
  {
   "cell_type": "code",
   "execution_count": 289,
   "metadata": {},
   "outputs": [],
   "source": [
    "from sklearn.ensemble import RandomForestRegressor"
   ]
  },
  {
   "cell_type": "code",
   "execution_count": 290,
   "metadata": {},
   "outputs": [],
   "source": [
    "# # Code to perform hyperparameter tuning using GridSearchCV\n",
    "\n",
    "\n",
    "# rf = RandomForestRegressor(random_state=101)\n",
    "# rf_params = {\"n_estimators\": [50, 100, 150, 200, 250, 300, 400, 500],\n",
    "#              \"max_depth\": [3, 5, 10, None]}\n",
    "\n",
    "# rf_cv = GridSearchCV(rf, rf_params)\n",
    "# rf_cv.fit(X_train, y_train)\n",
    "\n",
    "# print(rf_cv.best_params_)                # {'max_depth': None, 'n_estimators': 500}\n",
    "\n",
    "# rf_best = rf_cv.best_estimator_\n",
    "# rf_best.fit(X_train, y_train)\n",
    "\n",
    "# print(rf_best.score(X_val, y_val))\n",
    "# print(rf_best.score(X_test, y_test))"
   ]
  },
  {
   "cell_type": "code",
   "execution_count": 291,
   "metadata": {},
   "outputs": [
    {
     "data": {
      "text/plain": [
       "RandomForestRegressor(n_estimators=500, random_state=101)"
      ]
     },
     "execution_count": 291,
     "metadata": {},
     "output_type": "execute_result"
    }
   ],
   "source": [
    "rf = RandomForestRegressor(n_estimators=500, max_depth=None, random_state=101)\n",
    "\n",
    "rf.fit(X_train, y_train)"
   ]
  },
  {
   "cell_type": "markdown",
   "metadata": {},
   "source": [
    "**Model performance on Validation set and Test set**"
   ]
  },
  {
   "cell_type": "code",
   "execution_count": 292,
   "metadata": {},
   "outputs": [
    {
     "name": "stdout",
     "output_type": "stream",
     "text": [
      "Validation score: 0.9989\n",
      "\n",
      "Test score: 0.9983\n"
     ]
    }
   ],
   "source": [
    "print(\"Validation score:\", round(rf.score(X_val, y_val), 4))\n",
    "print()\n",
    "print(\"Test score:\", round(rf.score(X_test, y_test), 4))"
   ]
  },
  {
   "cell_type": "markdown",
   "metadata": {},
   "source": [
    "**Root Mean Squared Error (RMSE) of the model on the Validation set and Test set.**"
   ]
  },
  {
   "cell_type": "code",
   "execution_count": 293,
   "metadata": {},
   "outputs": [
    {
     "name": "stdout",
     "output_type": "stream",
     "text": [
      "RMSE on Validation set: 1.985\n",
      "\n",
      "RMSE on Test set: 2.449\n"
     ]
    }
   ],
   "source": [
    "rf_val_pred = rf.predict(X_val)\n",
    "rf_test_pred = rf.predict(X_test)\n",
    "\n",
    "print(\"RMSE on Validation set:\", round(np.sqrt(mean_squared_error(y_val, rf_val_pred)), 3))\n",
    "print()\n",
    "print(\"RMSE on Test set:\", round(np.sqrt(mean_squared_error(y_test, rf_test_pred)), 3))"
   ]
  },
  {
   "cell_type": "markdown",
   "metadata": {},
   "source": [
    "* Thus on average, the difference between the actual values and predicted values on the Validation set is **1.985**.\n",
    "\n",
    "* The average difference between the actual values and predicted values on the Test set is **2.449**."
   ]
  },
  {
   "cell_type": "markdown",
   "metadata": {},
   "source": [
    "**Feature Importance**"
   ]
  },
  {
   "cell_type": "code",
   "execution_count": 294,
   "metadata": {},
   "outputs": [],
   "source": [
    "rf_feat_imp = sorted(zip(X.columns, rf.feature_importances_), key=lambda x: abs(x[1]), reverse=True)"
   ]
  },
  {
   "cell_type": "code",
   "execution_count": 295,
   "metadata": {},
   "outputs": [
    {
     "data": {
      "image/png": "[encoded data removed]",
      "text/plain": [
       "<Figure size 720x432 with 1 Axes>"
      ]
     },
     "metadata": {
      "needs_background": "light"
     },
     "output_type": "display_data"
    }
   ],
   "source": [
    "plt.figure(figsize=(10,6))\n",
    "plt.title(\"Random Forest: Top 10 important features\")\n",
    "\n",
    "sns.barplot(x=list(map(lambda x: x[1], rf_feat_imp[:10])),\n",
    "            y=list(map(lambda x: x[0], rf_feat_imp[:10])),\n",
    "            orient=\"h\");"
   ]
  },
  {
   "cell_type": "markdown",
   "metadata": {},
   "source": [
    "<hr>"
   ]
  },
  {
   "cell_type": "markdown",
   "metadata": {},
   "source": [
    "## Gradient Boosted Trees"
   ]
  },
  {
   "cell_type": "code",
   "execution_count": 296,
   "metadata": {},
   "outputs": [],
   "source": [
    "from sklearn.ensemble import GradientBoostingRegressor"
   ]
  },
  {
   "cell_type": "code",
   "execution_count": 297,
   "metadata": {},
   "outputs": [],
   "source": [
    "# # Code to perform hyperparameter tuning using GridSearchCV\n",
    "\n",
    "# gb = GradientBoostingRegressor(random_state=101)\n",
    "# gb_params = {\"n_estimators\": [50, 100, 200, 300, 400, 500],\n",
    "#              \"max_depth\": [3, 5, 10, None],\n",
    "#              \"learning_rate\": [0.001, 0.01, 0.1, 1]}\n",
    "\n",
    "# gb_cv = GridSearchCV(gb, gb_params)\n",
    "# gb_cv.fit(X_train, y_train)\n",
    "\n",
    "# print(gb_cv.best_params_)            # {'learning_rate': 0.1, 'max_depth': 5, 'n_estimators': 200}\n",
    "\n",
    "# gb_best = gb_cv.best_estimator_\n",
    "# gb_best.fit(X_train, y_train)\n",
    "\n",
    "# print(gb_best.score(X_val, y_val))\n",
    "# print(gb_best.score(X_test, y_test))"
   ]
  },
  {
   "cell_type": "code",
   "execution_count": 298,
   "metadata": {},
   "outputs": [
    {
     "data": {
      "text/plain": [
       "GradientBoostingRegressor(max_depth=5, n_estimators=200, random_state=101)"
      ]
     },
     "execution_count": 298,
     "metadata": {},
     "output_type": "execute_result"
    }
   ],
   "source": [
    "gb = GradientBoostingRegressor(n_estimators=200, max_depth=5, learning_rate=0.1, random_state=101)\n",
    "gb.fit(X_train, y_train)"
   ]
  },
  {
   "cell_type": "markdown",
   "metadata": {},
   "source": [
    "**Model performance on Validation set and Test set**"
   ]
  },
  {
   "cell_type": "code",
   "execution_count": 299,
   "metadata": {},
   "outputs": [
    {
     "name": "stdout",
     "output_type": "stream",
     "text": [
      "Validation score: 0.9989\n",
      "\n",
      "Test score: 0.9986\n"
     ]
    }
   ],
   "source": [
    "print(\"Validation score:\", round(gb.score(X_val, y_val), 4))\n",
    "print()\n",
    "print(\"Test score:\", round(gb.score(X_test, y_test), 4))"
   ]
  },
  {
   "cell_type": "markdown",
   "metadata": {},
   "source": [
    "**Root Mean Squared Error (RMSE) of the model on the Validation set and Test set.**"
   ]
  },
  {
   "cell_type": "code",
   "execution_count": 300,
   "metadata": {},
   "outputs": [
    {
     "name": "stdout",
     "output_type": "stream",
     "text": [
      "RMSE on Validation set: 1.934\n",
      "\n",
      "RMSE on Test set: 2.237\n"
     ]
    }
   ],
   "source": [
    "gb_val_pred = gb.predict(X_val)\n",
    "gb_test_pred = gb.predict(X_test)\n",
    "\n",
    "print(\"RMSE on Validation set:\", round(np.sqrt(mean_squared_error(y_val, gb_val_pred)), 3))\n",
    "print()\n",
    "print(\"RMSE on Test set:\", round(np.sqrt(mean_squared_error(y_test, gb_test_pred)), 3))"
   ]
  },
  {
   "cell_type": "markdown",
   "metadata": {},
   "source": [
    "* Thus on average, the difference between the actual values and predicted values on the Validation set is **1.934**.\n",
    "\n",
    "* The average difference between the actual values and predicted values on the Test set is **2.237**."
   ]
  },
  {
   "cell_type": "markdown",
   "metadata": {},
   "source": [
    "**Feature Importance**"
   ]
  },
  {
   "cell_type": "code",
   "execution_count": 301,
   "metadata": {},
   "outputs": [],
   "source": [
    "gb_feat_imp = sorted(zip(X.columns, gb.feature_importances_), key=lambda x: abs(x[1]), reverse=True)"
   ]
  },
  {
   "cell_type": "code",
   "execution_count": 302,
   "metadata": {},
   "outputs": [
    {
     "data": {
      "image/png": "[encoded data removed]",
      "text/plain": [
       "<Figure size 720x432 with 1 Axes>"
      ]
     },
     "metadata": {
      "needs_background": "light"
     },
     "output_type": "display_data"
    }
   ],
   "source": [
    "plt.figure(figsize=(10,6))\n",
    "plt.title(\"Gradient Boosted Trees: Top 10 important features\")\n",
    "\n",
    "sns.barplot(x=list(map(lambda x: x[1], gb_feat_imp[:10])),\n",
    "            y=list(map(lambda x: x[0], gb_feat_imp[:10])),\n",
    "            orient=\"h\");"
   ]
  },
  {
   "cell_type": "markdown",
   "metadata": {},
   "source": [
    "* FUEL CONSUMPTION COMB (L/100) and FUEL CONSUMPTION COMB (mpg) have the most influence in predicting the $CO_{2}$ emission."
   ]
  },
  {
   "cell_type": "markdown",
   "metadata": {},
   "source": [
    "<hr>"
   ]
  },
  {
   "cell_type": "markdown",
   "metadata": {},
   "source": [
    "## Final Results"
   ]
  },
  {
   "cell_type": "code",
   "execution_count": 303,
   "metadata": {},
   "outputs": [],
   "source": [
    "models = {\"Linear Regression\": lr, \"Decision Tree\": dt, \"Random Forest\": rf, \"Gradient Boosted Trees\": gb}\n",
    "\n",
    "# Models which require scaled input\n",
    "scaled_models = {\"Ridge Regression\": rr, \"Lasso Regression\": las, \"K-Nearest Neighbors\": knn}"
   ]
  },
  {
   "cell_type": "code",
   "execution_count": 304,
   "metadata": {},
   "outputs": [],
   "source": [
    "cols = pd.MultiIndex.from_product([[\"Validation set\", \"Test set\"], [\"R2 Score\", \"RMSE\"]])\n",
    "\n",
    "model_results = pd.DataFrame(index=[\"Linear Regression\", \"Ridge Regression\", \"Lasso Regression\",\n",
    "                                    \"K-Nearest Neighbors\", \"Decision Tree\", \"Random Forest\",\n",
    "                                   \"Gradient Boosted Trees\"],\n",
    "                             columns=cols, dtype=np.float64)"
   ]
  },
  {
   "cell_type": "code",
   "execution_count": 305,
   "metadata": {},
   "outputs": [],
   "source": [
    "for mod_name, mod_obj in models.items():\n",
    "    model_results.loc[mod_name, (\"Validation set\", \"R2 Score\")] = mod_obj.score(X_val, y_val)\n",
    "    model_results.loc[mod_name, (\"Validation set\", \"RMSE\")] = np.sqrt(mean_squared_error(y_val, mod_obj.predict(X_val)))\n",
    "    \n",
    "    model_results.loc[mod_name, (\"Test set\", \"R2 Score\")] = mod_obj.score(X_test, y_test)\n",
    "    model_results.loc[mod_name, (\"Test set\", \"RMSE\")] = np.sqrt(mean_squared_error(y_test, mod_obj.predict(X_test)))\n",
    "\n",
    "    \n",
    "for mod_name, mod_obj in scaled_models.items():\n",
    "    model_results.loc[mod_name, (\"Validation set\", \"R2 Score\")] = mod_obj.score(X_val_scaled, y_val)\n",
    "    model_results.loc[mod_name, (\"Validation set\", \"RMSE\")] = np.sqrt(mean_squared_error(y_val, mod_obj.predict(X_val_scaled)))\n",
    "    \n",
    "    model_results.loc[mod_name, (\"Test set\", \"R2 Score\")] = mod_obj.score(X_test_scaled, y_test)\n",
    "    model_results.loc[mod_name, (\"Test set\", \"RMSE\")] = np.sqrt(mean_squared_error(y_test, mod_obj.predict(X_test_scaled)))\n",
    "    "
   ]
  },
  {
   "cell_type": "code",
   "execution_count": 306,
   "metadata": {},
   "outputs": [
    {
     "data": {
      "text/html": [
       "<div>\n",
       "<style scoped>\n",
       "    .dataframe tbody tr th:only-of-type {\n",
       "        vertical-align: middle;\n",
       "    }\n",
       "\n",
       "    .dataframe tbody tr th {\n",
       "        vertical-align: top;\n",
       "    }\n",
       "\n",
       "    .dataframe thead tr th {\n",
       "        text-align: left;\n",
       "    }\n",
       "</style>\n",
       "<table border=\"1\" class=\"dataframe\">\n",
       "  <thead>\n",
       "    <tr>\n",
       "      <th></th>\n",
       "      <th colspan=\"2\" halign=\"left\">Validation set</th>\n",
       "      <th colspan=\"2\" halign=\"left\">Test set</th>\n",
       "    </tr>\n",
       "    <tr>\n",
       "      <th></th>\n",
       "      <th>R2 Score</th>\n",
       "      <th>RMSE</th>\n",
       "      <th>R2 Score</th>\n",
       "      <th>RMSE</th>\n",
       "    </tr>\n",
       "  </thead>\n",
       "  <tbody>\n",
       "    <tr>\n",
       "      <th>Linear Regression</th>\n",
       "      <td>0.9951</td>\n",
       "      <td>4.134</td>\n",
       "      <td>0.9951</td>\n",
       "      <td>4.226</td>\n",
       "    </tr>\n",
       "    <tr>\n",
       "      <th>Ridge Regression</th>\n",
       "      <td>0.9951</td>\n",
       "      <td>4.134</td>\n",
       "      <td>0.9951</td>\n",
       "      <td>4.226</td>\n",
       "    </tr>\n",
       "    <tr>\n",
       "      <th>Lasso Regression</th>\n",
       "      <td>0.9949</td>\n",
       "      <td>4.205</td>\n",
       "      <td>0.9948</td>\n",
       "      <td>4.348</td>\n",
       "    </tr>\n",
       "    <tr>\n",
       "      <th>K-Nearest Neighbors</th>\n",
       "      <td>0.9792</td>\n",
       "      <td>8.521</td>\n",
       "      <td>0.9775</td>\n",
       "      <td>9.025</td>\n",
       "    </tr>\n",
       "    <tr>\n",
       "      <th>Decision Tree</th>\n",
       "      <td>0.9987</td>\n",
       "      <td>2.114</td>\n",
       "      <td>0.9981</td>\n",
       "      <td>2.659</td>\n",
       "    </tr>\n",
       "    <tr>\n",
       "      <th>Random Forest</th>\n",
       "      <td>0.9989</td>\n",
       "      <td>1.985</td>\n",
       "      <td>0.9983</td>\n",
       "      <td>2.449</td>\n",
       "    </tr>\n",
       "    <tr>\n",
       "      <th>Gradient Boosted Trees</th>\n",
       "      <td>0.9989</td>\n",
       "      <td>1.934</td>\n",
       "      <td>0.9986</td>\n",
       "      <td>2.237</td>\n",
       "    </tr>\n",
       "  </tbody>\n",
       "</table>\n",
       "</div>"
      ],
      "text/plain": [
       "                       Validation set        Test set       \n",
       "                             R2 Score   RMSE R2 Score   RMSE\n",
       "Linear Regression              0.9951  4.134   0.9951  4.226\n",
       "Ridge Regression               0.9951  4.134   0.9951  4.226\n",
       "Lasso Regression               0.9949  4.205   0.9948  4.348\n",
       "K-Nearest Neighbors            0.9792  8.521   0.9775  9.025\n",
       "Decision Tree                  0.9987  2.114   0.9981  2.659\n",
       "Random Forest                  0.9989  1.985   0.9983  2.449\n",
       "Gradient Boosted Trees         0.9989  1.934   0.9986  2.237"
      ]
     },
     "execution_count": 306,
     "metadata": {},
     "output_type": "execute_result"
    }
   ],
   "source": [
    "model_results[[(\"Validation set\", \"R2 Score\"),\n",
    "               (\"Test set\", \"R2 Score\")]] = model_results[[(\"Validation set\", \"R2 Score\"),\n",
    "                                                           (\"Test set\", \"R2 Score\")]].round(4)\n",
    "\n",
    "model_results[[(\"Validation set\", \"RMSE\"),\n",
    "               (\"Test set\", \"RMSE\")]] = model_results[[(\"Validation set\", \"RMSE\"),\n",
    "                                                           (\"Test set\", \"RMSE\")]].round(3)\n",
    "\n",
    "model_results"
   ]
  },
  {
   "cell_type": "markdown",
   "metadata": {},
   "source": [
    "## Conclusion"
   ]
  },
  {
   "cell_type": "markdown",
   "metadata": {},
   "source": [
    "**Gradient Boosted Trees**\n",
    "\n",
    "* The model performs the best among all the other models with an accuracy of **99.89%** on the validation set and **99.86%** on the test set.<br>\n",
    "* The Root Mean Squared Error of the model is the least among all the other models on both validation set as well as test set.\n",
    "<br><br>\n",
    "\n",
    "**Random Forest**\n",
    "\n",
    "* The model's performance is almost similar to Gradient Boosted Trees with an accuracy of **99.89%** on the validation set and **99.83%** on the test set.<br>\n",
    "* The Root Mean Squared Error of the model on the validation set is **1.985** and test set is **2.449**.\n",
    "<br><br>\n",
    "\n",
    "**K-Nearest Neighbors**\n",
    "\n",
    "* The model performs the worst among all the other models with an accuracy of **97.92%** on the validation set and **97.75%** on the test set.<br>\n",
    "* The Root Mean Squared Error of the model is the highest among all the other models on both validation set as well as test set.\n",
    "<br><br>"
   ]
  },
  {
   "cell_type": "markdown",
   "metadata": {},
   "source": [
    "<hr>"
   ]
  }
 ],
 "metadata": {
  "kernelspec": {
   "display_name": "Python 3",
   "language": "python",
   "name": "python3"
  },
  "language_info": {
   "codemirror_mode": {
    "name": "ipython",
    "version": 3
   },
   "file_extension": ".py",
   "mimetype": "text/x-python",
   "name": "python",
   "nbconvert_exporter": "python",
   "pygments_lexer": "ipython3",
   "version": "3.8.4"
  }
 },
 "nbformat": 4,
 "nbformat_minor": 4
}
